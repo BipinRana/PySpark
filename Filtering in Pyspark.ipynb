{
 "cells": [
  {
   "cell_type": "code",
   "execution_count": 1,
   "id": "87ec7d2d-7c6e-41b6-993f-d7afd7cbd269",
   "metadata": {},
   "outputs": [],
   "source": [
    "from pyspark.sql import SparkSession\n",
    "spark = SparkSession.builder.appName('Practice').config(\"spark.network.timeout\", \"600s\").config(\"spark.executor.heartbeatInterval\", \"60s\").getOrCreate()"
   ]
  },
  {
   "cell_type": "code",
   "execution_count": 2,
   "id": "0597e62b-66b8-4d32-9fe4-8dcd42e99df4",
   "metadata": {},
   "outputs": [],
   "source": [
    "df_titanic = spark.read.csv('titanic.csv',header = True,inferSchema=True)"
   ]
  },
  {
   "cell_type": "code",
   "execution_count": 3,
   "id": "69a3babc-2bd9-4df4-b53e-e5b958c20a79",
   "metadata": {},
   "outputs": [
    {
     "name": "stdout",
     "output_type": "stream",
     "text": [
      "+-----------+--------+------+--------------------+------+----+-----+-----+----------------+-------+-----+--------+\n",
      "|PassengerId|Survived|Pclass|                Name|   Sex| Age|SibSp|Parch|          Ticket|   Fare|Cabin|Embarked|\n",
      "+-----------+--------+------+--------------------+------+----+-----+-----+----------------+-------+-----+--------+\n",
      "|          1|       0|     3|Braund, Mr. Owen ...|  male|22.0|    1|    0|       A/5 21171|   7.25| NULL|       S|\n",
      "|          2|       1|     1|Cumings, Mrs. Joh...|female|38.0|    1|    0|        PC 17599|71.2833|  C85|       C|\n",
      "|          3|       1|     3|Heikkinen, Miss. ...|female|26.0|    0|    0|STON/O2. 3101282|  7.925| NULL|       S|\n",
      "|          4|       1|     1|Futrelle, Mrs. Ja...|female|35.0|    1|    0|          113803|   53.1| C123|       S|\n",
      "|          5|       0|     3|Allen, Mr. Willia...|  male|35.0|    0|    0|          373450|   8.05| NULL|       S|\n",
      "|          6|       0|     3|    Moran, Mr. James|  male|NULL|    0|    0|          330877| 8.4583| NULL|       Q|\n",
      "|          7|       0|     1|McCarthy, Mr. Tim...|  male|54.0|    0|    0|           17463|51.8625|  E46|       S|\n",
      "|          8|       0|     3|Palsson, Master. ...|  male| 2.0|    3|    1|          349909| 21.075| NULL|       S|\n",
      "|          9|       1|     3|Johnson, Mrs. Osc...|female|27.0|    0|    2|          347742|11.1333| NULL|       S|\n",
      "|         10|       1|     2|Nasser, Mrs. Nich...|female|14.0|    1|    0|          237736|30.0708| NULL|       C|\n",
      "|         11|       1|     3|Sandstrom, Miss. ...|female| 4.0|    1|    1|         PP 9549|   16.7|   G6|       S|\n",
      "|         12|       1|     1|Bonnell, Miss. El...|female|58.0|    0|    0|          113783|  26.55| C103|       S|\n",
      "|         13|       0|     3|Saundercock, Mr. ...|  male|20.0|    0|    0|       A/5. 2151|   8.05| NULL|       S|\n",
      "|         14|       0|     3|Andersson, Mr. An...|  male|39.0|    1|    5|          347082| 31.275| NULL|       S|\n",
      "|         15|       0|     3|Vestrom, Miss. Hu...|female|14.0|    0|    0|          350406| 7.8542| NULL|       S|\n",
      "|         16|       1|     2|Hewlett, Mrs. (Ma...|female|55.0|    0|    0|          248706|   16.0| NULL|       S|\n",
      "|         17|       0|     3|Rice, Master. Eugene|  male| 2.0|    4|    1|          382652| 29.125| NULL|       Q|\n",
      "|         18|       1|     2|Williams, Mr. Cha...|  male|NULL|    0|    0|          244373|   13.0| NULL|       S|\n",
      "|         19|       0|     3|Vander Planke, Mr...|female|31.0|    1|    0|          345763|   18.0| NULL|       S|\n",
      "|         20|       1|     3|Masselmani, Mrs. ...|female|NULL|    0|    0|            2649|  7.225| NULL|       C|\n",
      "+-----------+--------+------+--------------------+------+----+-----+-----+----------------+-------+-----+--------+\n",
      "only showing top 20 rows\n",
      "\n"
     ]
    }
   ],
   "source": [
    "df_titanic.show()"
   ]
  },
  {
   "cell_type": "code",
   "execution_count": 4,
   "id": "860e5ab0-0584-45c9-be4c-d3566aadea8d",
   "metadata": {},
   "outputs": [
    {
     "name": "stdout",
     "output_type": "stream",
     "text": [
      "+-----------+--------+------+--------------------+------+----+-----+-----+----------------+--------+-----+--------+\n",
      "|PassengerId|Survived|Pclass|                Name|   Sex| Age|SibSp|Parch|          Ticket|    Fare|Cabin|Embarked|\n",
      "+-----------+--------+------+--------------------+------+----+-----+-----+----------------+--------+-----+--------+\n",
      "|          2|       1|     1|Cumings, Mrs. Joh...|female|38.0|    1|    0|        PC 17599| 71.2833|  C85|       C|\n",
      "|          3|       1|     3|Heikkinen, Miss. ...|female|26.0|    0|    0|STON/O2. 3101282|   7.925| NULL|       S|\n",
      "|          4|       1|     1|Futrelle, Mrs. Ja...|female|35.0|    1|    0|          113803|    53.1| C123|       S|\n",
      "|          9|       1|     3|Johnson, Mrs. Osc...|female|27.0|    0|    2|          347742| 11.1333| NULL|       S|\n",
      "|         10|       1|     2|Nasser, Mrs. Nich...|female|14.0|    1|    0|          237736| 30.0708| NULL|       C|\n",
      "|         11|       1|     3|Sandstrom, Miss. ...|female| 4.0|    1|    1|         PP 9549|    16.7|   G6|       S|\n",
      "|         12|       1|     1|Bonnell, Miss. El...|female|58.0|    0|    0|          113783|   26.55| C103|       S|\n",
      "|         16|       1|     2|Hewlett, Mrs. (Ma...|female|55.0|    0|    0|          248706|    16.0| NULL|       S|\n",
      "|         18|       1|     2|Williams, Mr. Cha...|  male|NULL|    0|    0|          244373|    13.0| NULL|       S|\n",
      "|         20|       1|     3|Masselmani, Mrs. ...|female|NULL|    0|    0|            2649|   7.225| NULL|       C|\n",
      "|         22|       1|     2|Beesley, Mr. Lawr...|  male|34.0|    0|    0|          248698|    13.0|  D56|       S|\n",
      "|         23|       1|     3|\"McGowan, Miss. A...|female|15.0|    0|    0|          330923|  8.0292| NULL|       Q|\n",
      "|         24|       1|     1|Sloper, Mr. Willi...|  male|28.0|    0|    0|          113788|    35.5|   A6|       S|\n",
      "|         26|       1|     3|Asplund, Mrs. Car...|female|38.0|    1|    5|          347077| 31.3875| NULL|       S|\n",
      "|         29|       1|     3|\"O'Dwyer, Miss. E...|female|NULL|    0|    0|          330959|  7.8792| NULL|       Q|\n",
      "|         32|       1|     1|Spencer, Mrs. Wil...|female|NULL|    1|    0|        PC 17569|146.5208|  B78|       C|\n",
      "|         33|       1|     3|Glynn, Miss. Mary...|female|NULL|    0|    0|          335677|    7.75| NULL|       Q|\n",
      "|         37|       1|     3|    Mamee, Mr. Hanna|  male|NULL|    0|    0|            2677|  7.2292| NULL|       C|\n",
      "|         40|       1|     3|Nicola-Yarred, Mi...|female|14.0|    1|    0|            2651| 11.2417| NULL|       C|\n",
      "|         44|       1|     2|Laroche, Miss. Si...|female| 3.0|    1|    2|   SC/Paris 2123| 41.5792| NULL|       C|\n",
      "+-----------+--------+------+--------------------+------+----+-----+-----+----------------+--------+-----+--------+\n",
      "only showing top 20 rows\n",
      "\n"
     ]
    }
   ],
   "source": [
    "df_titanic.filter(df_titanic['Survived']==1).show()"
   ]
  },
  {
   "cell_type": "code",
   "execution_count": 5,
   "id": "deb592dd-09b0-4177-bcfc-e9845c33858d",
   "metadata": {},
   "outputs": [
    {
     "name": "stdout",
     "output_type": "stream",
     "text": [
      "+-----------+--------+------+--------------------+----+----+-----+-----+--------+-------+-------+--------+\n",
      "|PassengerId|Survived|Pclass|                Name| Sex| Age|SibSp|Parch|  Ticket|   Fare|  Cabin|Embarked|\n",
      "+-----------+--------+------+--------------------+----+----+-----+-----+--------+-------+-------+--------+\n",
      "|         18|       1|     2|Williams, Mr. Cha...|male|NULL|    0|    0|  244373|   13.0|   NULL|       S|\n",
      "|         22|       1|     2|Beesley, Mr. Lawr...|male|34.0|    0|    0|  248698|   13.0|    D56|       S|\n",
      "|         24|       1|     1|Sloper, Mr. Willi...|male|28.0|    0|    0|  113788|   35.5|     A6|       S|\n",
      "|         37|       1|     3|    Mamee, Mr. Hanna|male|NULL|    0|    0|    2677| 7.2292|   NULL|       C|\n",
      "|         56|       1|     1|   Woolner, Mr. Hugh|male|NULL|    0|    0|   19947|   35.5|    C52|       S|\n",
      "|         66|       1|     3|Moubarek, Master....|male|NULL|    1|    1|    2661|15.2458|   NULL|       C|\n",
      "|         75|       1|     3|       Bing, Mr. Lee|male|32.0|    0|    0|    1601|56.4958|   NULL|       S|\n",
      "|         79|       1|     2|Caldwell, Master....|male|0.83|    0|    2|  248738|   29.0|   NULL|       S|\n",
      "|         82|       1|     3|Sheerlinck, Mr. J...|male|29.0|    0|    0|  345779|    9.5|   NULL|       S|\n",
      "|         98|       1|     1|Greenfield, Mr. W...|male|23.0|    0|    1|PC 17759|63.3583|D10 D12|       C|\n",
      "|        108|       1|     3|Moss, Mr. Albert ...|male|NULL|    0|    0|  312991|  7.775|   NULL|       S|\n",
      "|        126|       1|     3|Nicola-Yarred, Ma...|male|12.0|    1|    0|    2651|11.2417|   NULL|       C|\n",
      "|        128|       1|     3|Madsen, Mr. Fridt...|male|24.0|    0|    0| C 17369| 7.1417|   NULL|       S|\n",
      "|        147|       1|     3|\"Andersson, Mr. A...|male|27.0|    0|    0|  350043| 7.7958|   NULL|       S|\n",
      "|        166|       1|     3|\"Goldsmith, Maste...|male| 9.0|    0|    2|  363291| 20.525|   NULL|       S|\n",
      "|        184|       1|     2|Becker, Master. R...|male| 1.0|    2|    1|  230136|   39.0|     F4|       S|\n",
      "|        188|       1|     1|\"Romaine, Mr. Cha...|male|45.0|    0|    0|  111428|  26.55|   NULL|       S|\n",
      "|        194|       1|     2|Navratil, Master....|male| 3.0|    1|    1|  230080|   26.0|     F2|       S|\n",
      "|        205|       1|     3|\"Cohen, Mr. Gursh...|male|18.0|    0|    0|A/5 3540|   8.05|   NULL|       S|\n",
      "|        208|       1|     3|Albimona, Mr. Nas...|male|26.0|    0|    0|    2699|18.7875|   NULL|       C|\n",
      "+-----------+--------+------+--------------------+----+----+-----+-----+--------+-------+-------+--------+\n",
      "only showing top 20 rows\n",
      "\n"
     ]
    }
   ],
   "source": [
    "df_titanic.filter((df_titanic['Survived']==1) & (df_titanic['Sex']=='male')).show()"
   ]
  },
  {
   "cell_type": "code",
   "execution_count": 6,
   "id": "01033e55-7e7a-4e20-abe9-161aef4bb377",
   "metadata": {},
   "outputs": [
    {
     "data": {
      "text/plain": [
       "109"
      ]
     },
     "execution_count": 6,
     "metadata": {},
     "output_type": "execute_result"
    }
   ],
   "source": [
    "df_titanic.filter((df_titanic['Survived']==1) & (df_titanic['Sex']=='male')).count()"
   ]
  },
  {
   "cell_type": "code",
   "execution_count": 7,
   "id": "e354187b-f0a2-4cf9-a065-670963ef31d6",
   "metadata": {},
   "outputs": [
    {
     "name": "stdout",
     "output_type": "stream",
     "text": [
      "+-----------+--------+------+--------------------+------+----+-----+-----+----------------+-------+-----+--------+\n",
      "|PassengerId|Survived|Pclass|                Name|   Sex| Age|SibSp|Parch|          Ticket|   Fare|Cabin|Embarked|\n",
      "+-----------+--------+------+--------------------+------+----+-----+-----+----------------+-------+-----+--------+\n",
      "|          1|       0|     3|Braund, Mr. Owen ...|  male|22.0|    1|    0|       A/5 21171|   7.25| NULL|       S|\n",
      "|          3|       1|     3|Heikkinen, Miss. ...|female|26.0|    0|    0|STON/O2. 3101282|  7.925| NULL|       S|\n",
      "|          5|       0|     3|Allen, Mr. Willia...|  male|35.0|    0|    0|          373450|   8.05| NULL|       S|\n",
      "|          6|       0|     3|    Moran, Mr. James|  male|NULL|    0|    0|          330877| 8.4583| NULL|       Q|\n",
      "|          8|       0|     3|Palsson, Master. ...|  male| 2.0|    3|    1|          349909| 21.075| NULL|       S|\n",
      "|          9|       1|     3|Johnson, Mrs. Osc...|female|27.0|    0|    2|          347742|11.1333| NULL|       S|\n",
      "|         10|       1|     2|Nasser, Mrs. Nich...|female|14.0|    1|    0|          237736|30.0708| NULL|       C|\n",
      "|         11|       1|     3|Sandstrom, Miss. ...|female| 4.0|    1|    1|         PP 9549|   16.7|   G6|       S|\n",
      "|         12|       1|     1|Bonnell, Miss. El...|female|58.0|    0|    0|          113783|  26.55| C103|       S|\n",
      "|         13|       0|     3|Saundercock, Mr. ...|  male|20.0|    0|    0|       A/5. 2151|   8.05| NULL|       S|\n",
      "|         14|       0|     3|Andersson, Mr. An...|  male|39.0|    1|    5|          347082| 31.275| NULL|       S|\n",
      "|         15|       0|     3|Vestrom, Miss. Hu...|female|14.0|    0|    0|          350406| 7.8542| NULL|       S|\n",
      "|         16|       1|     2|Hewlett, Mrs. (Ma...|female|55.0|    0|    0|          248706|   16.0| NULL|       S|\n",
      "|         17|       0|     3|Rice, Master. Eugene|  male| 2.0|    4|    1|          382652| 29.125| NULL|       Q|\n",
      "|         18|       1|     2|Williams, Mr. Cha...|  male|NULL|    0|    0|          244373|   13.0| NULL|       S|\n",
      "|         19|       0|     3|Vander Planke, Mr...|female|31.0|    1|    0|          345763|   18.0| NULL|       S|\n",
      "|         20|       1|     3|Masselmani, Mrs. ...|female|NULL|    0|    0|            2649|  7.225| NULL|       C|\n",
      "|         21|       0|     2|Fynney, Mr. Joseph J|  male|35.0|    0|    0|          239865|   26.0| NULL|       S|\n",
      "|         22|       1|     2|Beesley, Mr. Lawr...|  male|34.0|    0|    0|          248698|   13.0|  D56|       S|\n",
      "|         23|       1|     3|\"McGowan, Miss. A...|female|15.0|    0|    0|          330923| 8.0292| NULL|       Q|\n",
      "+-----------+--------+------+--------------------+------+----+-----+-----+----------------+-------+-----+--------+\n",
      "only showing top 20 rows\n",
      "\n"
     ]
    }
   ],
   "source": [
    "df_titanic.filter(~(df_titanic['Fare']>=50)).show()\n"
   ]
  },
  {
   "cell_type": "code",
   "execution_count": 8,
   "id": "a46d0695-070c-40ce-96f8-d91da749c6f1",
   "metadata": {},
   "outputs": [
    {
     "name": "stdout",
     "output_type": "stream",
     "text": [
      "+------+-------------+------------------+\n",
      "|Pclass|sum(Survived)|         sum(Fare)|\n",
      "+------+-------------+------------------+\n",
      "|     1|          136|18177.412499999984|\n",
      "|     3|          119| 6714.695100000002|\n",
      "|     2|           87|3801.8416999999995|\n",
      "+------+-------------+------------------+\n",
      "\n"
     ]
    }
   ],
   "source": [
    "df_titanic.groupBy('Pclass').sum().select(['Pclass','sum(Survived)','sum(Fare)']).show()"
   ]
  },
  {
   "cell_type": "code",
   "execution_count": 9,
   "id": "02740d08-f93b-4fc0-94a7-aa107e21aa26",
   "metadata": {},
   "outputs": [
    {
     "name": "stdout",
     "output_type": "stream",
     "text": [
      "+------+-----+\n",
      "|Pclass|count|\n",
      "+------+-----+\n",
      "|     1|  216|\n",
      "|     3|  491|\n",
      "|     2|  184|\n",
      "+------+-----+\n",
      "\n"
     ]
    }
   ],
   "source": [
    "df_titanic.groupBy('Pclass').count().show()"
   ]
  },
  {
   "cell_type": "code",
   "execution_count": 10,
   "id": "c1a6d8da-bb78-4cfb-8ad3-6a75dee2f847",
   "metadata": {},
   "outputs": [
    {
     "name": "stdout",
     "output_type": "stream",
     "text": [
      "+------+-------------------+------------------+-------------------+-------------------+------------------+\n",
      "|Pclass|      avg(Survived)|          avg(Age)|         avg(SibSp)|         avg(Parch)|         avg(Fare)|\n",
      "+------+-------------------+------------------+-------------------+-------------------+------------------+\n",
      "|     1| 0.6296296296296297|38.233440860215055| 0.4166666666666667|0.35648148148148145| 84.15468749999992|\n",
      "|     3|0.24236252545824846| 25.14061971830986|  0.615071283095723|0.39307535641547864|13.675550101832997|\n",
      "|     2|0.47282608695652173| 29.87763005780347|0.40217391304347827| 0.3804347826086957| 20.66218315217391|\n",
      "+------+-------------------+------------------+-------------------+-------------------+------------------+\n",
      "\n"
     ]
    }
   ],
   "source": [
    "df_titanic.groupBy('Pclass').mean().drop('avg(PassengerId)','avg(Pclass)').show()"
   ]
  },
  {
   "cell_type": "code",
   "execution_count": 11,
   "id": "b84cd8a6-171f-478b-8191-4bb6a9e8ea07",
   "metadata": {},
   "outputs": [
    {
     "name": "stdout",
     "output_type": "stream",
     "text": [
      "+------+--------+----------+----------+---------+\n",
      "|Pclass|max(Age)|max(SibSp)|max(Parch)|max(Fare)|\n",
      "+------+--------+----------+----------+---------+\n",
      "|     1|    80.0|         3|         4| 512.3292|\n",
      "|     3|    74.0|         8|         6|    69.55|\n",
      "|     2|    70.0|         3|         3|     73.5|\n",
      "+------+--------+----------+----------+---------+\n",
      "\n"
     ]
    }
   ],
   "source": [
    "df_titanic.groupBy('Pclass').max().drop('max(Survived)','max(PassengerId)','max(Pclass)').show()"
   ]
  },
  {
   "cell_type": "code",
   "execution_count": null,
   "id": "4927453a-6cdb-4b57-a902-40a1752f0226",
   "metadata": {},
   "outputs": [],
   "source": []
  }
 ],
 "metadata": {
  "kernelspec": {
   "display_name": "Python 3 (ipykernel)",
   "language": "python",
   "name": "python3"
  },
  "language_info": {
   "codemirror_mode": {
    "name": "ipython",
    "version": 3
   },
   "file_extension": ".py",
   "mimetype": "text/x-python",
   "name": "python",
   "nbconvert_exporter": "python",
   "pygments_lexer": "ipython3",
   "version": "3.13.0"
  }
 },
 "nbformat": 4,
 "nbformat_minor": 5
}
