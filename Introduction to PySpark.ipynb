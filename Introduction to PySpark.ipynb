{
 "cells": [
  {
   "cell_type": "code",
   "execution_count": 23,
   "id": "48e0fc73-7bef-4c4d-9879-dd975331bb73",
   "metadata": {},
   "outputs": [],
   "source": [
    "from pyspark.sql import SparkSession"
   ]
  },
  {
   "cell_type": "code",
   "execution_count": 24,
   "id": "020e2e1e-3d57-4c16-ab37-a11e022c9a6c",
   "metadata": {},
   "outputs": [],
   "source": [
    "import pandas as pd"
   ]
  },
  {
   "cell_type": "code",
   "execution_count": 25,
   "id": "ec60e01a-75a6-4c12-8463-445d55385ee5",
   "metadata": {},
   "outputs": [],
   "source": [
    "#reading in pandas\n",
    "df = pd.read_csv('basic_data.csv')"
   ]
  },
  {
   "cell_type": "code",
   "execution_count": 26,
   "id": "86d3fce8-9800-47f8-9f37-c9281f5d5498",
   "metadata": {},
   "outputs": [
    {
     "data": {
      "text/html": [
       "<div>\n",
       "<style scoped>\n",
       "    .dataframe tbody tr th:only-of-type {\n",
       "        vertical-align: middle;\n",
       "    }\n",
       "\n",
       "    .dataframe tbody tr th {\n",
       "        vertical-align: top;\n",
       "    }\n",
       "\n",
       "    .dataframe thead th {\n",
       "        text-align: right;\n",
       "    }\n",
       "</style>\n",
       "<table border=\"1\" class=\"dataframe\">\n",
       "  <thead>\n",
       "    <tr style=\"text-align: right;\">\n",
       "      <th></th>\n",
       "      <th>Name</th>\n",
       "      <th>Age</th>\n",
       "      <th>Experience</th>\n",
       "    </tr>\n",
       "  </thead>\n",
       "  <tbody>\n",
       "    <tr>\n",
       "      <th>0</th>\n",
       "      <td>Bipin</td>\n",
       "      <td>19</td>\n",
       "      <td>1</td>\n",
       "    </tr>\n",
       "    <tr>\n",
       "      <th>1</th>\n",
       "      <td>Bardan</td>\n",
       "      <td>21</td>\n",
       "      <td>2</td>\n",
       "    </tr>\n",
       "    <tr>\n",
       "      <th>2</th>\n",
       "      <td>Rosan</td>\n",
       "      <td>18</td>\n",
       "      <td>1</td>\n",
       "    </tr>\n",
       "  </tbody>\n",
       "</table>\n",
       "</div>"
      ],
      "text/plain": [
       "     Name  Age  Experience\n",
       "0   Bipin   19           1\n",
       "1  Bardan   21           2\n",
       "2   Rosan   18           1"
      ]
     },
     "execution_count": 26,
     "metadata": {},
     "output_type": "execute_result"
    }
   ],
   "source": [
    "df"
   ]
  },
  {
   "cell_type": "code",
   "execution_count": 27,
   "id": "eadbf9f4-3001-46c7-96e9-4bda780cf01c",
   "metadata": {},
   "outputs": [],
   "source": [
    "#creating a sparksession\n",
    "spark = SparkSession.builder.appName('Practice').getOrCreate()"
   ]
  },
  {
   "cell_type": "code",
   "execution_count": 28,
   "id": "008bd8ad-6c90-4e55-96c3-ecaea654f185",
   "metadata": {},
   "outputs": [
    {
     "data": {
      "text/html": [
       "\n",
       "            <div>\n",
       "                <p><b>SparkSession - in-memory</b></p>\n",
       "                \n",
       "        <div>\n",
       "            <p><b>SparkContext</b></p>\n",
       "\n",
       "            <p><a href=\"http://192.168.1.133:4041\">Spark UI</a></p>\n",
       "\n",
       "            <dl>\n",
       "              <dt>Version</dt>\n",
       "                <dd><code>v3.5.4</code></dd>\n",
       "              <dt>Master</dt>\n",
       "                <dd><code>local[*]</code></dd>\n",
       "              <dt>AppName</dt>\n",
       "                <dd><code>Practice</code></dd>\n",
       "            </dl>\n",
       "        </div>\n",
       "        \n",
       "            </div>\n",
       "        "
      ],
      "text/plain": [
       "<pyspark.sql.session.SparkSession at 0x1f935ad8590>"
      ]
     },
     "execution_count": 28,
     "metadata": {},
     "output_type": "execute_result"
    }
   ],
   "source": [
    "spark"
   ]
  },
  {
   "cell_type": "code",
   "execution_count": 29,
   "id": "29a0ab58-2509-4a75-bcf6-dccff03a71a9",
   "metadata": {},
   "outputs": [],
   "source": [
    "#reading csv through pyspark\n",
    "df_spark = spark.read.option('header','true').csv('basic_data.csv')"
   ]
  },
  {
   "cell_type": "code",
   "execution_count": 30,
   "id": "6cbe8e4b-c7ca-4d38-b186-a0be22d668d4",
   "metadata": {},
   "outputs": [
    {
     "name": "stdout",
     "output_type": "stream",
     "text": [
      "+------+---+----------+\n",
      "|  Name|Age|Experience|\n",
      "+------+---+----------+\n",
      "| Bipin| 19|         1|\n",
      "|Bardan| 21|         2|\n",
      "| Rosan| 18|         1|\n",
      "+------+---+----------+\n",
      "\n"
     ]
    }
   ],
   "source": [
    "df_spark.show()"
   ]
  },
  {
   "cell_type": "code",
   "execution_count": 31,
   "id": "3c5deca6-691d-489b-a518-28d88e7cd474",
   "metadata": {},
   "outputs": [
    {
     "data": {
      "text/plain": [
       "pyspark.sql.dataframe.DataFrame"
      ]
     },
     "execution_count": 31,
     "metadata": {},
     "output_type": "execute_result"
    }
   ],
   "source": [
    "type(df_spark)"
   ]
  },
  {
   "cell_type": "code",
   "execution_count": 32,
   "id": "d98ce55e-c327-46fc-a41c-10bab0d876e4",
   "metadata": {},
   "outputs": [
    {
     "data": {
      "text/plain": [
       "[Row(Name='Bipin', Age='19', Experience='1'),\n",
       " Row(Name='Bardan', Age='21', Experience='2'),\n",
       " Row(Name='Rosan', Age='18', Experience='1')]"
      ]
     },
     "execution_count": 32,
     "metadata": {},
     "output_type": "execute_result"
    }
   ],
   "source": [
    "df_spark.head(3)"
   ]
  },
  {
   "cell_type": "code",
   "execution_count": 33,
   "id": "b05f4711-ec92-4e5c-8ec7-1a92e8eeac2f",
   "metadata": {},
   "outputs": [
    {
     "name": "stdout",
     "output_type": "stream",
     "text": [
      "root\n",
      " |-- Name: string (nullable = true)\n",
      " |-- Age: string (nullable = true)\n",
      " |-- Experience: string (nullable = true)\n",
      "\n"
     ]
    }
   ],
   "source": [
    "#info of the columns\n",
    "df_spark.printSchema()"
   ]
  },
  {
   "cell_type": "code",
   "execution_count": 34,
   "id": "ecf90f30-a071-4fa8-a3a0-29b0e023150c",
   "metadata": {},
   "outputs": [],
   "source": [
    "df_spark = spark.read.csv('basic_data.csv',header=True,inferSchema=True)"
   ]
  },
  {
   "cell_type": "code",
   "execution_count": 35,
   "id": "76dc0a66-fb8b-4e03-b381-43116fe0c1ab",
   "metadata": {},
   "outputs": [
    {
     "name": "stdout",
     "output_type": "stream",
     "text": [
      "root\n",
      " |-- Name: string (nullable = true)\n",
      " |-- Age: integer (nullable = true)\n",
      " |-- Experience: integer (nullable = true)\n",
      "\n"
     ]
    }
   ],
   "source": [
    "df_spark.printSchema()"
   ]
  },
  {
   "cell_type": "code",
   "execution_count": 36,
   "id": "02139c2f-4fc4-4f90-a606-08d5792cd7e6",
   "metadata": {},
   "outputs": [
    {
     "data": {
      "text/plain": [
       "['Name', 'Age', 'Experience']"
      ]
     },
     "execution_count": 36,
     "metadata": {},
     "output_type": "execute_result"
    }
   ],
   "source": [
    "df_spark.columns"
   ]
  },
  {
   "cell_type": "code",
   "execution_count": 37,
   "id": "4da039cc-3c68-4c2d-a26f-49b0991aebbc",
   "metadata": {},
   "outputs": [
    {
     "data": {
      "text/plain": [
       "DataFrame[Name: string]"
      ]
     },
     "execution_count": 37,
     "metadata": {},
     "output_type": "execute_result"
    }
   ],
   "source": [
    "df_spark.select('Name')"
   ]
  },
  {
   "cell_type": "code",
   "execution_count": 38,
   "id": "64e3f8e2-08f4-4bfd-a7d3-489988771040",
   "metadata": {},
   "outputs": [
    {
     "name": "stdout",
     "output_type": "stream",
     "text": [
      "+------+\n",
      "|  Name|\n",
      "+------+\n",
      "| Bipin|\n",
      "|Bardan|\n",
      "| Rosan|\n",
      "+------+\n",
      "\n"
     ]
    }
   ],
   "source": [
    "df_spark.select('Name').show()"
   ]
  },
  {
   "cell_type": "code",
   "execution_count": 39,
   "id": "b33b8ec6-3f81-4d08-b915-f49f4ea13f72",
   "metadata": {},
   "outputs": [
    {
     "name": "stdout",
     "output_type": "stream",
     "text": [
      "+------+---+\n",
      "|  Name|Age|\n",
      "+------+---+\n",
      "| Bipin| 19|\n",
      "|Bardan| 21|\n",
      "| Rosan| 18|\n",
      "+------+---+\n",
      "\n"
     ]
    }
   ],
   "source": [
    "df_spark.select(['Name','Age']).show()"
   ]
  },
  {
   "cell_type": "code",
   "execution_count": 40,
   "id": "10ca7b4b-f865-437b-8a3e-7ffc50242b82",
   "metadata": {},
   "outputs": [
    {
     "data": {
      "text/plain": [
       "Column<'Name'>"
      ]
     },
     "execution_count": 40,
     "metadata": {},
     "output_type": "execute_result"
    }
   ],
   "source": [
    "df_spark['Name']"
   ]
  },
  {
   "cell_type": "code",
   "execution_count": 41,
   "id": "4b40cd67-8b9e-42af-afd5-c3f8c8f2e84a",
   "metadata": {},
   "outputs": [
    {
     "data": {
      "text/plain": [
       "[('Name', 'string'), ('Age', 'int'), ('Experience', 'int')]"
      ]
     },
     "execution_count": 41,
     "metadata": {},
     "output_type": "execute_result"
    }
   ],
   "source": [
    "df_spark.dtypes"
   ]
  },
  {
   "cell_type": "code",
   "execution_count": 44,
   "id": "30762195-2919-4538-afd9-35e52c2272cf",
   "metadata": {},
   "outputs": [
    {
     "name": "stdout",
     "output_type": "stream",
     "text": [
      "+-------+------+------------------+------------------+\n",
      "|summary|  Name|               Age|        Experience|\n",
      "+-------+------+------------------+------------------+\n",
      "|  count|     3|                 3|                 3|\n",
      "|   mean|  NULL|19.333333333333332|1.3333333333333333|\n",
      "| stddev|  NULL|1.5275252316519468|0.5773502691896258|\n",
      "|    min|Bardan|                18|                 1|\n",
      "|    max| Rosan|                21|                 2|\n",
      "+-------+------+------------------+------------------+\n",
      "\n"
     ]
    }
   ],
   "source": [
    "#works just like describe of pandas\n",
    "df_spark.describe().show()"
   ]
  },
  {
   "cell_type": "code",
   "execution_count": 60,
   "id": "ae2f1088-6900-4419-ab01-71d8b46b852e",
   "metadata": {},
   "outputs": [],
   "source": [
    "df_spark = df_spark.withColumn('Experience after 5 years',df_spark['Experience']+5)"
   ]
  },
  {
   "cell_type": "code",
   "execution_count": 61,
   "id": "9e87b3f0-02cc-4a7e-ab15-28b845719062",
   "metadata": {},
   "outputs": [
    {
     "name": "stdout",
     "output_type": "stream",
     "text": [
      "+------+---+----------+------------------------+\n",
      "|  Name|Age|Experience|Experience after 5 years|\n",
      "+------+---+----------+------------------------+\n",
      "| Bipin| 19|         1|                       6|\n",
      "|Bardan| 21|         2|                       7|\n",
      "| Rosan| 18|         1|                       6|\n",
      "+------+---+----------+------------------------+\n",
      "\n"
     ]
    }
   ],
   "source": [
    "df_spark.show()"
   ]
  },
  {
   "cell_type": "code",
   "execution_count": 63,
   "id": "29781812-2595-409c-992f-4e88a1c1fac2",
   "metadata": {},
   "outputs": [
    {
     "name": "stdout",
     "output_type": "stream",
     "text": [
      "+------+---+----------+\n",
      "|  Name|Age|Experience|\n",
      "+------+---+----------+\n",
      "| Bipin| 19|         1|\n",
      "|Bardan| 21|         2|\n",
      "| Rosan| 18|         1|\n",
      "+------+---+----------+\n",
      "\n"
     ]
    }
   ],
   "source": [
    "df_spark.drop('Experience after 5 years').show()"
   ]
  },
  {
   "cell_type": "code",
   "execution_count": 65,
   "id": "cdbdcfb3-a950-4d1f-8ef8-31834bfdfe53",
   "metadata": {},
   "outputs": [],
   "source": [
    "df_spark = df_spark.drop('Experience after 5 years')"
   ]
  },
  {
   "cell_type": "code",
   "execution_count": 66,
   "id": "55558ef5-df72-4640-8f9f-3e5c3c3e00c1",
   "metadata": {},
   "outputs": [
    {
     "name": "stdout",
     "output_type": "stream",
     "text": [
      "+------+---+----------+\n",
      "|  Name|Age|Experience|\n",
      "+------+---+----------+\n",
      "| Bipin| 19|         1|\n",
      "|Bardan| 21|         2|\n",
      "| Rosan| 18|         1|\n",
      "+------+---+----------+\n",
      "\n"
     ]
    }
   ],
   "source": [
    "df_spark.show()"
   ]
  },
  {
   "cell_type": "code",
   "execution_count": 74,
   "id": "d3b15b68-f734-4741-8d5a-1cf3b5f60b52",
   "metadata": {},
   "outputs": [
    {
     "name": "stdout",
     "output_type": "stream",
     "text": [
      "+--------+---+----------+\n",
      "|New_Name|Age|Experience|\n",
      "+--------+---+----------+\n",
      "|   Bipin| 19|         1|\n",
      "|  Bardan| 21|         2|\n",
      "|   Rosan| 18|         1|\n",
      "+--------+---+----------+\n",
      "\n"
     ]
    }
   ],
   "source": [
    "#renaming columns\n",
    "df_spark.withColumnRenamed('Name','New_Name').show()"
   ]
  },
  {
   "cell_type": "code",
   "execution_count": 89,
   "id": "15b1566e-414d-49da-bc94-15fde42bf926",
   "metadata": {},
   "outputs": [],
   "source": [
    "df_two = spark.read.csv('test2.csv',header=True,inferSchema=True)"
   ]
  },
  {
   "cell_type": "code",
   "execution_count": 91,
   "id": "e852c964-d6aa-4e62-9820-fdbb75926c04",
   "metadata": {},
   "outputs": [
    {
     "name": "stdout",
     "output_type": "stream",
     "text": [
      "+---------+----+----------+------+\n",
      "|     Name| age|Experience|Salary|\n",
      "+---------+----+----------+------+\n",
      "|    Krish|  31|        10| 30000|\n",
      "|Sudhanshu|  30|         8| 25000|\n",
      "|    Sunny|  29|         4| 20000|\n",
      "|     Paul|  24|         3| 20000|\n",
      "|   Harsha|  21|         1| 15000|\n",
      "|  Shubham|  23|         2| 18000|\n",
      "|   Mahesh|NULL|      NULL| 40000|\n",
      "|     NULL|  34|        10| 38000|\n",
      "|     NULL|  36|      NULL|  NULL|\n",
      "+---------+----+----------+------+\n",
      "\n"
     ]
    }
   ],
   "source": [
    "df_two.show()"
   ]
  },
  {
   "cell_type": "code",
   "execution_count": 97,
   "id": "240a3bda-5b45-4b13-899e-d359810c8f54",
   "metadata": {},
   "outputs": [
    {
     "name": "stdout",
     "output_type": "stream",
     "text": [
      "+---------+---+----------+------+\n",
      "|     Name|age|Experience|Salary|\n",
      "+---------+---+----------+------+\n",
      "|    Krish| 31|        10| 30000|\n",
      "|Sudhanshu| 30|         8| 25000|\n",
      "|    Sunny| 29|         4| 20000|\n",
      "|     Paul| 24|         3| 20000|\n",
      "|   Harsha| 21|         1| 15000|\n",
      "|  Shubham| 23|         2| 18000|\n",
      "|     NULL| 34|        10| 38000|\n",
      "+---------+---+----------+------+\n",
      "\n"
     ]
    }
   ],
   "source": [
    "df_two.na.drop(how='any',thresh = 3).show()"
   ]
  },
  {
   "cell_type": "code",
   "execution_count": 98,
   "id": "b42fb895-883b-43f7-bc86-9aac4db87b3b",
   "metadata": {},
   "outputs": [
    {
     "name": "stdout",
     "output_type": "stream",
     "text": [
      "+---------+---+----------+------+\n",
      "|     Name|age|Experience|Salary|\n",
      "+---------+---+----------+------+\n",
      "|    Krish| 31|        10| 30000|\n",
      "|Sudhanshu| 30|         8| 25000|\n",
      "|    Sunny| 29|         4| 20000|\n",
      "|     Paul| 24|         3| 20000|\n",
      "|   Harsha| 21|         1| 15000|\n",
      "|  Shubham| 23|         2| 18000|\n",
      "|     NULL| 34|        10| 38000|\n",
      "+---------+---+----------+------+\n",
      "\n"
     ]
    }
   ],
   "source": [
    "df_two.na.drop(how='any',subset='Experience').show()"
   ]
  },
  {
   "cell_type": "code",
   "execution_count": 105,
   "id": "814b8030-122b-4410-bb6a-78f30586d672",
   "metadata": {},
   "outputs": [
    {
     "name": "stdout",
     "output_type": "stream",
     "text": [
      "+---------+----+----------+------+\n",
      "|     Name| age|Experience|Salary|\n",
      "+---------+----+----------+------+\n",
      "|    Krish|  31|        10| 30000|\n",
      "|Sudhanshu|  30|         8| 25000|\n",
      "|    Sunny|  29|         4| 20000|\n",
      "|     Paul|  24|         3| 20000|\n",
      "|   Harsha|  21|         1| 15000|\n",
      "|  Shubham|  23|         2| 18000|\n",
      "|   Mahesh|NULL|      NULL| 40000|\n",
      "|     NULL|  34|        10| 38000|\n",
      "|     NULL|  36|      NULL|  NULL|\n",
      "+---------+----+----------+------+\n",
      "\n"
     ]
    }
   ],
   "source": [
    "df_two.show()"
   ]
  },
  {
   "cell_type": "code",
   "execution_count": 118,
   "id": "32970f8e-9ba7-4bd3-9b67-2d089dd2dfb8",
   "metadata": {},
   "outputs": [
    {
     "name": "stdout",
     "output_type": "stream",
     "text": [
      "+--------------+----+----------+------+\n",
      "|          Name| age|Experience|Salary|\n",
      "+--------------+----+----------+------+\n",
      "|         Krish|  31|        10| 30000|\n",
      "|     Sudhanshu|  30|         8| 25000|\n",
      "|         Sunny|  29|         4| 20000|\n",
      "|          Paul|  24|         3| 20000|\n",
      "|        Harsha|  21|         1| 15000|\n",
      "|       Shubham|  23|         2| 18000|\n",
      "|        Mahesh|NULL|      NULL| 40000|\n",
      "|Missing Values|  34|        10| 38000|\n",
      "|Missing Values|  36|      NULL|  NULL|\n",
      "+--------------+----+----------+------+\n",
      "\n"
     ]
    }
   ],
   "source": [
    "df_two.na.fill('Missing Values').show()"
   ]
  },
  {
   "cell_type": "markdown",
   "id": "1f6750c0-720f-4fb7-82b0-68d5e04de0da",
   "metadata": {},
   "source": [
    "### The na.fill('Missing values') was not working for the integer columns like Age/Experience/Salary\n",
    "Only if we read the dataset as 'inferSchema=False' and all the columns are taken in string format by default we can fill the missing values with a string like 'Missing Values'......same goes for the string columns if we fill the missing values with a '0'\n",
    "\n",
    "### WHY?\n",
    "na.fill(\"Missing Values\") only works on columns with string data types.\n",
    "age, Experience, and Salary are numeric columns, so \"Missing Values\" cannot replace NULLs in those columns (PySpark does not allow mixing data types).\n",
    "\n"
   ]
  },
  {
   "cell_type": "code",
   "execution_count": 119,
   "id": "e78f19fe-e324-4b90-ac8c-b385b3ea577c",
   "metadata": {},
   "outputs": [
    {
     "name": "stdout",
     "output_type": "stream",
     "text": [
      "+--------------+---+----------+------+\n",
      "|          Name|age|Experience|Salary|\n",
      "+--------------+---+----------+------+\n",
      "|         Krish| 31|        10| 30000|\n",
      "|     Sudhanshu| 30|         8| 25000|\n",
      "|         Sunny| 29|         4| 20000|\n",
      "|          Paul| 24|         3| 20000|\n",
      "|        Harsha| 21|         1| 15000|\n",
      "|       Shubham| 23|         2| 18000|\n",
      "|        Mahesh|  0|         0| 40000|\n",
      "|Missing Values| 34|        10| 38000|\n",
      "|Missing Values| 36|         0|     0|\n",
      "+--------------+---+----------+------+\n",
      "\n"
     ]
    }
   ],
   "source": [
    "df_two.na.fill('Missing Values').na.fill(0).show()"
   ]
  },
  {
   "cell_type": "code",
   "execution_count": 123,
   "id": "55394983-bda2-40c7-9741-b1e049925ae5",
   "metadata": {},
   "outputs": [
    {
     "name": "stdout",
     "output_type": "stream",
     "text": [
      "+---------+----+----------+------+-----------+------------------+--------------+\n",
      "|     Name| age|Experience|Salary|age_imputed|Experience_imputed|Salary_imputed|\n",
      "+---------+----+----------+------+-----------+------------------+--------------+\n",
      "|    Krish|  31|        10| 30000|         31|                10|         30000|\n",
      "|Sudhanshu|  30|         8| 25000|         30|                 8|         25000|\n",
      "|    Sunny|  29|         4| 20000|         29|                 4|         20000|\n",
      "|     Paul|  24|         3| 20000|         24|                 3|         20000|\n",
      "|   Harsha|  21|         1| 15000|         21|                 1|         15000|\n",
      "|  Shubham|  23|         2| 18000|         23|                 2|         18000|\n",
      "|   Mahesh|NULL|      NULL| 40000|         28|                 5|         40000|\n",
      "|     NULL|  34|        10| 38000|         34|                10|         38000|\n",
      "|     NULL|  36|      NULL|  NULL|         36|                 5|         25750|\n",
      "+---------+----+----------+------+-----------+------------------+--------------+\n",
      "\n"
     ]
    }
   ],
   "source": [
    "#replacing null values with mean values using imputer class of pyspark(not sklearn)\n",
    "from pyspark.ml.feature import Imputer\n",
    "imputer = Imputer(\n",
    "    inputCols=[\"age\", \"Experience\", \"Salary\"], \n",
    "    outputCols=[\"age_imputed\", \"Experience_imputed\", \"Salary_imputed\"]\n",
    ").setStrategy(\"mean\")\n",
    "imputer.fit(df_two).transform(df_two).show()"
   ]
  },
  {
   "cell_type": "code",
   "execution_count": null,
   "id": "ec9c93f7-04e0-47ab-b09c-01d2daa6e2c6",
   "metadata": {},
   "outputs": [],
   "source": []
  }
 ],
 "metadata": {
  "kernelspec": {
   "display_name": "Python 3 (ipykernel)",
   "language": "python",
   "name": "python3"
  },
  "language_info": {
   "codemirror_mode": {
    "name": "ipython",
    "version": 3
   },
   "file_extension": ".py",
   "mimetype": "text/x-python",
   "name": "python",
   "nbconvert_exporter": "python",
   "pygments_lexer": "ipython3",
   "version": "3.13.0"
  }
 },
 "nbformat": 4,
 "nbformat_minor": 5
}
