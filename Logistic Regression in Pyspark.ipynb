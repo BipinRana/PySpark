{
 "cells": [
  {
   "cell_type": "code",
   "execution_count": 1,
   "id": "4b31d982-7a69-4fa8-b81d-8e5e28fac321",
   "metadata": {},
   "outputs": [],
   "source": [
    "from pyspark.sql import SparkSession\n",
    "spark = SparkSession.builder.appName('Practice').config(\"spark.network.timeout\", \"600s\").config(\"spark.executor.heartbeatInterval\", \"60s\").getOrCreate()"
   ]
  },
  {
   "cell_type": "code",
   "execution_count": 2,
   "id": "6799c54d-bdb9-4ae7-a68b-74c608e460a2",
   "metadata": {},
   "outputs": [],
   "source": [
    "df_spark = spark.read.csv('Social_Network_Ads.csv',header=True,inferSchema=True)"
   ]
  },
  {
   "cell_type": "code",
   "execution_count": 3,
   "id": "f792364b-0f70-40cb-be2d-28cd940d2fd5",
   "metadata": {},
   "outputs": [
    {
     "name": "stdout",
     "output_type": "stream",
     "text": [
      "+--------+------+---+---------------+---------+\n",
      "| User ID|Gender|Age|EstimatedSalary|Purchased|\n",
      "+--------+------+---+---------------+---------+\n",
      "|15624510|  Male| 19|          19000|        0|\n",
      "|15810944|  Male| 35|          20000|        0|\n",
      "|15668575|Female| 26|          43000|        0|\n",
      "|15603246|Female| 27|          57000|        0|\n",
      "|15804002|  Male| 19|          76000|        0|\n",
      "|15728773|  Male| 27|          58000|        0|\n",
      "|15598044|Female| 27|          84000|        0|\n",
      "|15694829|Female| 32|         150000|        1|\n",
      "|15600575|  Male| 25|          33000|        0|\n",
      "|15727311|Female| 35|          65000|        0|\n",
      "|15570769|Female| 26|          80000|        0|\n",
      "|15606274|Female| 26|          52000|        0|\n",
      "|15746139|  Male| 20|          86000|        0|\n",
      "|15704987|  Male| 32|          18000|        0|\n",
      "|15628972|  Male| 18|          82000|        0|\n",
      "|15697686|  Male| 29|          80000|        0|\n",
      "|15733883|  Male| 47|          25000|        1|\n",
      "|15617482|  Male| 45|          26000|        1|\n",
      "|15704583|  Male| 46|          28000|        1|\n",
      "|15621083|Female| 48|          29000|        1|\n",
      "+--------+------+---+---------------+---------+\n",
      "only showing top 20 rows\n",
      "\n"
     ]
    }
   ],
   "source": [
    "df_spark.show()"
   ]
  },
  {
   "cell_type": "code",
   "execution_count": 4,
   "id": "0b66cb66-60d1-4d8f-9cb0-b66ccb1fc874",
   "metadata": {},
   "outputs": [
    {
     "name": "stdout",
     "output_type": "stream",
     "text": [
      "+--------+------+---+---------------+---------+------------+\n",
      "| User ID|Gender|Age|EstimatedSalary|Purchased|Gender_index|\n",
      "+--------+------+---+---------------+---------+------------+\n",
      "|15624510|  Male| 19|          19000|        0|         1.0|\n",
      "|15810944|  Male| 35|          20000|        0|         1.0|\n",
      "|15668575|Female| 26|          43000|        0|         0.0|\n",
      "|15603246|Female| 27|          57000|        0|         0.0|\n",
      "|15804002|  Male| 19|          76000|        0|         1.0|\n",
      "|15728773|  Male| 27|          58000|        0|         1.0|\n",
      "|15598044|Female| 27|          84000|        0|         0.0|\n",
      "|15694829|Female| 32|         150000|        1|         0.0|\n",
      "|15600575|  Male| 25|          33000|        0|         1.0|\n",
      "|15727311|Female| 35|          65000|        0|         0.0|\n",
      "|15570769|Female| 26|          80000|        0|         0.0|\n",
      "|15606274|Female| 26|          52000|        0|         0.0|\n",
      "|15746139|  Male| 20|          86000|        0|         1.0|\n",
      "|15704987|  Male| 32|          18000|        0|         1.0|\n",
      "|15628972|  Male| 18|          82000|        0|         1.0|\n",
      "|15697686|  Male| 29|          80000|        0|         1.0|\n",
      "|15733883|  Male| 47|          25000|        1|         1.0|\n",
      "|15617482|  Male| 45|          26000|        1|         1.0|\n",
      "|15704583|  Male| 46|          28000|        1|         1.0|\n",
      "|15621083|Female| 48|          29000|        1|         0.0|\n",
      "+--------+------+---+---------------+---------+------------+\n",
      "only showing top 20 rows\n",
      "\n"
     ]
    }
   ],
   "source": [
    "from pyspark.ml.feature import OneHotEncoder, StringIndexer\n",
    "indexer = StringIndexer(inputCol=\"Gender\", outputCol=\"Gender_index\")\n",
    "indexed_data = indexer.fit(df_spark).transform(df_spark)\n",
    "indexed_data.show()"
   ]
  },
  {
   "cell_type": "code",
   "execution_count": 5,
   "id": "9151d587-e72e-4e07-b1e7-facbcf3fcb41",
   "metadata": {},
   "outputs": [
    {
     "name": "stdout",
     "output_type": "stream",
     "text": [
      "+--------+------+---+---------------+---------+------------+--------------+\n",
      "| User ID|Gender|Age|EstimatedSalary|Purchased|Gender_index|Gender_encoded|\n",
      "+--------+------+---+---------------+---------+------------+--------------+\n",
      "|15624510|  Male| 19|          19000|        0|         1.0|     (1,[],[])|\n",
      "|15810944|  Male| 35|          20000|        0|         1.0|     (1,[],[])|\n",
      "|15668575|Female| 26|          43000|        0|         0.0| (1,[0],[1.0])|\n",
      "|15603246|Female| 27|          57000|        0|         0.0| (1,[0],[1.0])|\n",
      "|15804002|  Male| 19|          76000|        0|         1.0|     (1,[],[])|\n",
      "|15728773|  Male| 27|          58000|        0|         1.0|     (1,[],[])|\n",
      "|15598044|Female| 27|          84000|        0|         0.0| (1,[0],[1.0])|\n",
      "|15694829|Female| 32|         150000|        1|         0.0| (1,[0],[1.0])|\n",
      "|15600575|  Male| 25|          33000|        0|         1.0|     (1,[],[])|\n",
      "|15727311|Female| 35|          65000|        0|         0.0| (1,[0],[1.0])|\n",
      "|15570769|Female| 26|          80000|        0|         0.0| (1,[0],[1.0])|\n",
      "|15606274|Female| 26|          52000|        0|         0.0| (1,[0],[1.0])|\n",
      "|15746139|  Male| 20|          86000|        0|         1.0|     (1,[],[])|\n",
      "|15704987|  Male| 32|          18000|        0|         1.0|     (1,[],[])|\n",
      "|15628972|  Male| 18|          82000|        0|         1.0|     (1,[],[])|\n",
      "|15697686|  Male| 29|          80000|        0|         1.0|     (1,[],[])|\n",
      "|15733883|  Male| 47|          25000|        1|         1.0|     (1,[],[])|\n",
      "|15617482|  Male| 45|          26000|        1|         1.0|     (1,[],[])|\n",
      "|15704583|  Male| 46|          28000|        1|         1.0|     (1,[],[])|\n",
      "|15621083|Female| 48|          29000|        1|         0.0| (1,[0],[1.0])|\n",
      "+--------+------+---+---------------+---------+------------+--------------+\n",
      "only showing top 20 rows\n",
      "\n"
     ]
    }
   ],
   "source": [
    "encoder = OneHotEncoder(inputCol='Gender_index',outputCol='Gender_encoded')\n",
    "encoded_data = encoder.fit(indexed_data).transform(indexed_data)\n",
    "encoded_data.show()"
   ]
  },
  {
   "cell_type": "code",
   "execution_count": 6,
   "id": "2d8c313d-73d0-4007-b7b5-4a23beb402f0",
   "metadata": {},
   "outputs": [],
   "source": [
    "from pyspark.ml.feature import VectorAssembler\n",
    "assembler = VectorAssembler(inputCols=[\"Gender_encoded\",\"Age\",\"EstimatedSalary\"],outputCol=\"Independent Features\")"
   ]
  },
  {
   "cell_type": "code",
   "execution_count": 7,
   "id": "3411b879-3d20-4527-bbfe-e7fa614a4c0b",
   "metadata": {},
   "outputs": [],
   "source": [
    "training = assembler.transform(encoded_data)"
   ]
  },
  {
   "cell_type": "code",
   "execution_count": 8,
   "id": "fcc61e91-389f-40a0-a90b-cc29907b1555",
   "metadata": {},
   "outputs": [
    {
     "name": "stdout",
     "output_type": "stream",
     "text": [
      "+--------+------+---+---------------+---------+------------+--------------+--------------------+\n",
      "| User ID|Gender|Age|EstimatedSalary|Purchased|Gender_index|Gender_encoded|Independent Features|\n",
      "+--------+------+---+---------------+---------+------------+--------------+--------------------+\n",
      "|15624510|  Male| 19|          19000|        0|         1.0|     (1,[],[])|  [0.0,19.0,19000.0]|\n",
      "|15810944|  Male| 35|          20000|        0|         1.0|     (1,[],[])|  [0.0,35.0,20000.0]|\n",
      "|15668575|Female| 26|          43000|        0|         0.0| (1,[0],[1.0])|  [1.0,26.0,43000.0]|\n",
      "|15603246|Female| 27|          57000|        0|         0.0| (1,[0],[1.0])|  [1.0,27.0,57000.0]|\n",
      "|15804002|  Male| 19|          76000|        0|         1.0|     (1,[],[])|  [0.0,19.0,76000.0]|\n",
      "|15728773|  Male| 27|          58000|        0|         1.0|     (1,[],[])|  [0.0,27.0,58000.0]|\n",
      "|15598044|Female| 27|          84000|        0|         0.0| (1,[0],[1.0])|  [1.0,27.0,84000.0]|\n",
      "|15694829|Female| 32|         150000|        1|         0.0| (1,[0],[1.0])| [1.0,32.0,150000.0]|\n",
      "|15600575|  Male| 25|          33000|        0|         1.0|     (1,[],[])|  [0.0,25.0,33000.0]|\n",
      "|15727311|Female| 35|          65000|        0|         0.0| (1,[0],[1.0])|  [1.0,35.0,65000.0]|\n",
      "|15570769|Female| 26|          80000|        0|         0.0| (1,[0],[1.0])|  [1.0,26.0,80000.0]|\n",
      "|15606274|Female| 26|          52000|        0|         0.0| (1,[0],[1.0])|  [1.0,26.0,52000.0]|\n",
      "|15746139|  Male| 20|          86000|        0|         1.0|     (1,[],[])|  [0.0,20.0,86000.0]|\n",
      "|15704987|  Male| 32|          18000|        0|         1.0|     (1,[],[])|  [0.0,32.0,18000.0]|\n",
      "|15628972|  Male| 18|          82000|        0|         1.0|     (1,[],[])|  [0.0,18.0,82000.0]|\n",
      "|15697686|  Male| 29|          80000|        0|         1.0|     (1,[],[])|  [0.0,29.0,80000.0]|\n",
      "|15733883|  Male| 47|          25000|        1|         1.0|     (1,[],[])|  [0.0,47.0,25000.0]|\n",
      "|15617482|  Male| 45|          26000|        1|         1.0|     (1,[],[])|  [0.0,45.0,26000.0]|\n",
      "|15704583|  Male| 46|          28000|        1|         1.0|     (1,[],[])|  [0.0,46.0,28000.0]|\n",
      "|15621083|Female| 48|          29000|        1|         0.0| (1,[0],[1.0])|  [1.0,48.0,29000.0]|\n",
      "+--------+------+---+---------------+---------+------------+--------------+--------------------+\n",
      "only showing top 20 rows\n",
      "\n"
     ]
    }
   ],
   "source": [
    "training.show()"
   ]
  },
  {
   "cell_type": "code",
   "execution_count": 9,
   "id": "9fb6c3e2-d3ba-491d-b9ac-d2bda94eca20",
   "metadata": {},
   "outputs": [
    {
     "name": "stdout",
     "output_type": "stream",
     "text": [
      "+--------------------+---------+\n",
      "|Independent Features|Purchased|\n",
      "+--------------------+---------+\n",
      "|  [0.0,19.0,19000.0]|        0|\n",
      "|  [0.0,35.0,20000.0]|        0|\n",
      "|  [1.0,26.0,43000.0]|        0|\n",
      "|  [1.0,27.0,57000.0]|        0|\n",
      "|  [0.0,19.0,76000.0]|        0|\n",
      "|  [0.0,27.0,58000.0]|        0|\n",
      "|  [1.0,27.0,84000.0]|        0|\n",
      "| [1.0,32.0,150000.0]|        1|\n",
      "|  [0.0,25.0,33000.0]|        0|\n",
      "|  [1.0,35.0,65000.0]|        0|\n",
      "|  [1.0,26.0,80000.0]|        0|\n",
      "|  [1.0,26.0,52000.0]|        0|\n",
      "|  [0.0,20.0,86000.0]|        0|\n",
      "|  [0.0,32.0,18000.0]|        0|\n",
      "|  [0.0,18.0,82000.0]|        0|\n",
      "|  [0.0,29.0,80000.0]|        0|\n",
      "|  [0.0,47.0,25000.0]|        1|\n",
      "|  [0.0,45.0,26000.0]|        1|\n",
      "|  [0.0,46.0,28000.0]|        1|\n",
      "|  [1.0,48.0,29000.0]|        1|\n",
      "+--------------------+---------+\n",
      "only showing top 20 rows\n",
      "\n"
     ]
    }
   ],
   "source": [
    "final_data = training.select(['Independent Features','Purchased'])\n",
    "final_data.show()"
   ]
  },
  {
   "cell_type": "code",
   "execution_count": 10,
   "id": "743d5d55-452c-4042-b741-0d313d5e7c52",
   "metadata": {},
   "outputs": [],
   "source": [
    "train_data, test_data = final_data.randomSplit([0.75,0.25])"
   ]
  },
  {
   "cell_type": "code",
   "execution_count": 11,
   "id": "d19cb7a2-0acf-41b2-9ef5-557c09077c94",
   "metadata": {},
   "outputs": [],
   "source": [
    "from pyspark.ml.feature import StandardScaler\n",
    "scaler = StandardScaler(inputCol='Independent Features',outputCol='Scaled Independent Features')\n",
    "scaler_model = scaler.fit(train_data)\n",
    "scaled_train_data = scaler_model.transform(train_data)\n",
    "scaled_test_data = scaler_model.transform(test_data)"
   ]
  },
  {
   "cell_type": "code",
   "execution_count": 12,
   "id": "919c047a-3fd2-446f-bc8f-00663bee688d",
   "metadata": {},
   "outputs": [
    {
     "name": "stdout",
     "output_type": "stream",
     "text": [
      "+--------------------+---------+---------------------------+\n",
      "|Independent Features|Purchased|Scaled Independent Features|\n",
      "+--------------------+---------+---------------------------+\n",
      "|  [0.0,18.0,52000.0]|        0|       [0.0,1.7071860124...|\n",
      "|  [0.0,18.0,82000.0]|        0|       [0.0,1.7071860124...|\n",
      "|  [0.0,19.0,19000.0]|        0|       [0.0,1.8020296797...|\n",
      "|  [0.0,19.0,25000.0]|        0|       [0.0,1.8020296797...|\n",
      "|  [0.0,19.0,70000.0]|        0|       [0.0,1.8020296797...|\n",
      "|  [0.0,19.0,85000.0]|        0|       [0.0,1.8020296797...|\n",
      "|  [0.0,20.0,49000.0]|        0|       [0.0,1.8968733471...|\n",
      "|  [0.0,20.0,74000.0]|        0|       [0.0,1.8968733471...|\n",
      "|  [0.0,20.0,86000.0]|        0|       [0.0,1.8968733471...|\n",
      "|  [0.0,21.0,72000.0]|        0|       [0.0,1.9917170144...|\n",
      "|  [0.0,21.0,88000.0]|        0|       [0.0,1.9917170144...|\n",
      "|  [0.0,22.0,18000.0]|        0|       [0.0,2.0865606818...|\n",
      "|  [0.0,22.0,81000.0]|        0|       [0.0,2.0865606818...|\n",
      "|  [0.0,23.0,20000.0]|        0|       [0.0,2.1814043491...|\n",
      "|  [0.0,24.0,19000.0]|        0|       [0.0,2.2762480165...|\n",
      "|  [0.0,24.0,23000.0]|        0|       [0.0,2.2762480165...|\n",
      "|  [0.0,24.0,84000.0]|        0|       [0.0,2.2762480165...|\n",
      "|  [0.0,25.0,33000.0]|        0|       [0.0,2.3710916839...|\n",
      "|  [0.0,25.0,79000.0]|        0|       [0.0,2.3710916839...|\n",
      "|  [0.0,25.0,80000.0]|        0|       [0.0,2.3710916839...|\n",
      "+--------------------+---------+---------------------------+\n",
      "only showing top 20 rows\n",
      "\n"
     ]
    }
   ],
   "source": [
    "scaled_train_data.show()"
   ]
  },
  {
   "cell_type": "code",
   "execution_count": 13,
   "id": "e2be549e-1dbb-4828-a2a4-637d3756be5f",
   "metadata": {},
   "outputs": [],
   "source": [
    "from pyspark.ml.classification import LogisticRegression\n",
    "model = LogisticRegression(featuresCol='Scaled Independent Features',labelCol='Purchased')\n",
    "model = model.fit(scaled_train_data)\n",
    "predictions = model.transform(scaled_test_data)"
   ]
  },
  {
   "cell_type": "code",
   "execution_count": 14,
   "id": "8997b1c5-924e-47e7-982a-8dca6d4d4b73",
   "metadata": {},
   "outputs": [
    {
     "name": "stdout",
     "output_type": "stream",
     "text": [
      "Accuracy: 0.9115616911130284\n"
     ]
    }
   ],
   "source": [
    "from pyspark.ml.evaluation import BinaryClassificationEvaluator\n",
    "\n",
    "\n",
    "# Evaluate accuracy using BinaryClassificationEvaluator\n",
    "evaluator = BinaryClassificationEvaluator(labelCol=\"Purchased\", metricName=\"areaUnderROC\")\n",
    "accuracy = evaluator.evaluate(predictions)\n",
    "print(f\"Accuracy: {accuracy}\")"
   ]
  },
  {
   "cell_type": "code",
   "execution_count": null,
   "id": "4927453a-6cdb-4b57-a902-40a1752f0226",
   "metadata": {},
   "outputs": [],
   "source": []
  }
 ],
 "metadata": {
  "kernelspec": {
   "display_name": "Python 3 (ipykernel)",
   "language": "python",
   "name": "python3"
  },
  "language_info": {
   "codemirror_mode": {
    "name": "ipython",
    "version": 3
   },
   "file_extension": ".py",
   "mimetype": "text/x-python",
   "name": "python",
   "nbconvert_exporter": "python",
   "pygments_lexer": "ipython3",
   "version": "3.13.0"
  }
 },
 "nbformat": 4,
 "nbformat_minor": 5
}
